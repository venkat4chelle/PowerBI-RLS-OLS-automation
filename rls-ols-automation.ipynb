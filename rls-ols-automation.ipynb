{
 "cells": [
  {
   "cell_type": "code",
   "execution_count": 94,
   "metadata": {},
   "outputs": [],
   "source": [
    "import json\n",
    "import os\n",
    "\n",
    "import pandas as pd\n",
    "import pyodbc\n",
    "from dotenv import find_dotenv, load_dotenv"
   ]
  },
  {
   "cell_type": "code",
   "execution_count": 102,
   "metadata": {},
   "outputs": [],
   "source": [
    "env_file = find_dotenv(\".env\")\n",
    "load_dotenv(env_file)\n",
    "\n",
    "# import credentials from .env file \n",
    "SERVER_NAME = os.environ.get('SERVER_NAME')\n",
    "DATABASE_NAME = os.environ.get('DATABASE_NAME')\n",
    "DATABASE_USERNAME = os.environ.get('DATABASE_USERNAME')\n",
    "DATABASE_PASSWORD = os.environ.get('DATABASE_PASSWORD')  \n",
    "DRIVER = os.environ.get('DRIVER')\n",
    "\n",
    "# security roles table name\n",
    "TABLE_SECURITY_ROLES_NAME = os.environ.get('TABLE_SECURITY_ROLES_NAME')\n",
    "\n",
    "# power bi dataset name (string)\n",
    "POWERBI_DATASET_NAME = os.environ.get('POWERBI_DATASET_NAME')"
   ]
  },
  {
   "cell_type": "code",
   "execution_count": 128,
   "metadata": {},
   "outputs": [
    {
     "name": "stdout",
     "output_type": "stream",
     "text": [
      "   SecurityRole   RestrictedTable RestrictedColumn RestrictedData\n",
      "0  Headquarters              None             None           None\n",
      "1    US Manager  DimSalesTeritory          Country  United States\n",
      "2    DE Manager  DimSalesTeritory          Country        Germany\n",
      "3    DE Manager       FactFinance             None           None\n",
      "4    DE Manager       DimCustomer    Email Address           None\n",
      "5         Sales       FactFinance             None           None\n",
      "6    US Manager  DimSalesTeritory           Region      Northwest\n"
     ]
    },
    {
     "name": "stderr",
     "output_type": "stream",
     "text": [
      "C:\\Users\\Vytautas\\AppData\\Local\\Temp\\ipykernel_21428\\2539179126.py:3: UserWarning: pandas only supports SQLAlchemy connectable (engine/connection) or database string URI or sqlite3 DBAPI2 connection. Other DBAPI2 objects are not tested. Please consider using SQLAlchemy.\n",
      "  securityRoles = pd.read_sql('SELECT * FROM '+TABLE_SECURITY_ROLES_NAME, conn)\n"
     ]
    }
   ],
   "source": [
    "# get data\n",
    "with pyodbc.connect('DRIVER='+DRIVER+';SERVER='+SERVER_NAME+';DATABASE='+DATABASE_NAME+';Trusted_Connection=yes') as conn:\n",
    "    securityRoles = pd.read_sql('SELECT * FROM '+TABLE_SECURITY_ROLES_NAME, conn)\n",
    "\n",
    "print(securityRoles)"
   ]
  },
  {
   "cell_type": "code",
   "execution_count": 104,
   "metadata": {},
   "outputs": [],
   "source": [
    "# create directory for role json files\n",
    "if not os.path.exists('Roles'):\n",
    "   os.makedirs('Roles')"
   ]
  },
  {
   "cell_type": "code",
   "execution_count": 127,
   "metadata": {},
   "outputs": [],
   "source": [
    "# unique role names\n",
    "roleNames = set(securityRoles['SecurityRole'])\n",
    "\n",
    "rolePermissions = []\n",
    "\n",
    "def createTablePermissions(tableName, roleRestrictions):\n",
    "    columnPermissions = []\n",
    "\n",
    "    # filtered combined df for and single table\n",
    "    tableRestrictions = roleRestrictions[roleRestrictions['RestrictedTable'] == tableName]\n",
    "    \n",
    "    columnNames = set(tableRestrictions['RestrictedColumn'])\n",
    "    \n",
    "    if columnNames != set([None]):\n",
    "        # if there's a column for which this role should be restricted\n",
    "        \n",
    "        tablePermission = {\n",
    "            'name': tableName,\n",
    "            'metadataPermission': 'read'\n",
    "        }\n",
    "        \n",
    "        # filtered combined df for a single role and single table for only columns/tables where there's restrictions\n",
    "        securityCombined_restricted = tableRestrictions.dropna(subset=['RestrictedColumn'])\n",
    "        \n",
    "        #OLS\n",
    "        olsColumns = securityCombined_restricted[securityCombined_restricted['RestrictedData'].isnull()]\n",
    "        \n",
    "        columnPermissions = []\n",
    "        for columnName in olsColumns['RestrictedColumn']:            \n",
    "\n",
    "            columnPermission = {\n",
    "                'name': columnName,\n",
    "                'metadataPermission': 'none'\n",
    "            }\n",
    "\n",
    "            columnPermissions.append(columnPermission)\n",
    "            \n",
    "        #RLS\n",
    "        rlsColumns = securityCombined_restricted[securityCombined_restricted['RestrictedData'].notnull()]\n",
    "        \n",
    "        filterExpression = None\n",
    "        for idx, columnName in enumerate(rlsColumns['RestrictedColumn']):\n",
    "            singleRow = rlsColumns[rlsColumns['RestrictedColumn'] == columnName]\n",
    "\n",
    "            # RLS\n",
    "            filterColumnExpression = '['+columnName+']'+' = \\\"'+singleRow['RestrictedData'].item()+'\\\"'\n",
    "            if idx == 0:\n",
    "                filterExpression = filterColumnExpression\n",
    "            else:\n",
    "                filterExpression = filterExpression+' && '+filterColumnExpression\n",
    "        \n",
    "        if bool(columnPermissions) : tablePermission['columnPermissions'] = columnPermissions\n",
    "        if filterExpression != None : tablePermission['filterExpression'] = filterExpression\n",
    "\n",
    "    else:\n",
    "        # otherwise role sees the whole table\n",
    "        tablePermission = {\n",
    "            'name': tableName,\n",
    "            'metadataPermission': 'none'\n",
    "        }\n",
    "    \n",
    "    return tablePermission\n",
    "\n",
    "\n",
    "for roleName in roleNames:\n",
    "\n",
    "    # filtered combined df for a single role\n",
    "    securityCombined_oneRole = securityRoles[securityRoles['SecurityRole'] == roleName]\n",
    "\n",
    "    tablePermissions = []\n",
    "\n",
    "    # unique table names for this role\n",
    "    tableNames = set(securityCombined_oneRole['RestrictedTable'])\n",
    "\n",
    "    # for each unique table name, create permissions\n",
    "    for tableName in tableNames:\n",
    "        \n",
    "        if tableName == None:\n",
    "            continue\n",
    "        \n",
    "        # create permisions per table\n",
    "        tablePermission = createTablePermissions(tableName, securityCombined_oneRole)\n",
    "        \n",
    "        # append permissions to a list\n",
    "        tablePermissions.append(tablePermission)\n",
    "    \n",
    "    \n",
    "    rolePermission = {\n",
    "        'name': roleName,\n",
    "        'modelPermission': 'read'\n",
    "    }\n",
    "    \n",
    "    if bool(tablePermissions) : rolePermission['tablePermissions'] = tablePermissions\n",
    "    rolePermission['annotations'] = [{\n",
    "            'name': 'created_by',\n",
    "            'value': 'python_script'\n",
    "        }]\n",
    "    \n",
    "    deploymentScript = {\n",
    "        'createOrReplace': {\n",
    "            'object': {\n",
    "                'database': POWERBI_DATASET_NAME,\n",
    "                'role': roleName\n",
    "            },\n",
    "            'role': rolePermission\n",
    "        }\n",
    "    }\n",
    "\n",
    "    with open('Roles/Role_'+roleName+'.json', 'w') as outfile:\n",
    "        json.dump(deploymentScript, outfile, indent = 4)"
   ]
  }
 ],
 "metadata": {
  "kernelspec": {
   "display_name": "Python 3",
   "language": "python",
   "name": "python3"
  },
  "language_info": {
   "codemirror_mode": {
    "name": "ipython",
    "version": 3
   },
   "file_extension": ".py",
   "mimetype": "text/x-python",
   "name": "python",
   "nbconvert_exporter": "python",
   "pygments_lexer": "ipython3",
   "version": "3.10.4"
  },
  "orig_nbformat": 4,
  "vscode": {
   "interpreter": {
    "hash": "70162c30ba98cc454f996dca13e44f724b62b751960580e6730177d4242bda7f"
   }
  }
 },
 "nbformat": 4,
 "nbformat_minor": 2
}
